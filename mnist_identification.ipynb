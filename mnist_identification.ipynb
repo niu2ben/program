{
  "nbformat": 4,
  "nbformat_minor": 0,
  "metadata": {
    "colab": {
      "name": "Untitled0.ipynb",
      "version": "0.3.2",
      "provenance": [],
      "include_colab_link": true
    },
    "kernelspec": {
      "name": "python3",
      "display_name": "Python 3"
    }
  },
  "cells": [
    {
      "cell_type": "markdown",
      "metadata": {
        "id": "view-in-github",
        "colab_type": "text"
      },
      "source": [
        "<a href=\"https://colab.research.google.com/github/niu2ben/program/blob/master/mnist_identification.ipynb\" target=\"_parent\"><img src=\"https://colab.research.google.com/assets/colab-badge.svg\" alt=\"Open In Colab\"/></a>"
      ]
    },
    {
      "metadata": {
        "id": "N9Q9Y3RUlefV",
        "colab_type": "text"
      },
      "cell_type": "markdown",
      "source": [
        "测试"
      ]
    },
    {
      "metadata": {
        "id": "YgGD3gctkWgN",
        "colab_type": "code",
        "colab": {}
      },
      "cell_type": "code",
      "source": [
        "import tensorflow as tf"
      ],
      "execution_count": 0,
      "outputs": []
    },
    {
      "metadata": {
        "id": "_Y3iCz9DkcOd",
        "colab_type": "code",
        "outputId": "40942389-1952-43b0-de22-85631371587a",
        "colab": {
          "base_uri": "https://localhost:8080/",
          "height": 35
        }
      },
      "cell_type": "code",
      "source": [
        "a=tf.constant('hello world')\n",
        "sess=tf.Session()\n",
        "print(sess.run(a))"
      ],
      "execution_count": 0,
      "outputs": [
        {
          "output_type": "stream",
          "text": [
            "b'hello world'\n"
          ],
          "name": "stdout"
        }
      ]
    },
    {
      "metadata": {
        "id": "RJzGB8_2lW6Q",
        "colab_type": "text"
      },
      "cell_type": "markdown",
      "source": [
        "练习项目mnist"
      ]
    },
    {
      "metadata": {
        "id": "Y5CXu_Fck3At",
        "colab_type": "code",
        "outputId": "45784eb7-c611-426a-88f0-e742b4e052af",
        "colab": {
          "base_uri": "https://localhost:8080/",
          "height": 233
        }
      },
      "cell_type": "code",
      "source": [
        "import tensorflow as tf\n",
        "mnist = tf.keras.datasets.mnist\n",
        "\n",
        "(x_train, y_train),(x_test, y_test) = mnist.load_data()\n",
        "x_train, x_test = x_train / 255.0, x_test / 255.0\n",
        "\n",
        "model = tf.keras.models.Sequential([\n",
        "  tf.keras.layers.Flatten(),\n",
        "  tf.keras.layers.Dense(512, activation=tf.nn.relu),\n",
        "  tf.keras.layers.Dropout(0.2),\n",
        "  tf.keras.layers.Dense(10, activation=tf.nn.softmax)\n",
        "])\n",
        "model.compile(optimizer='adam',\n",
        "              loss='sparse_categorical_crossentropy',\n",
        "              metrics=['accuracy'])\n",
        "\n",
        "model.fit(x_train, y_train, epochs=5)\n",
        "\n",
        "test_loss, test_acc = model.evaluate(x_test, y_test)\n",
        "\n",
        "print('Test accuracy:', test_acc,' Test loss:',test_loss)"
      ],
      "execution_count": 0,
      "outputs": [
        {
          "output_type": "stream",
          "text": [
            "Epoch 1/5\n",
            "60000/60000 [==============================] - 16s 266us/step - loss: 0.1999 - acc: 0.9415\n",
            "Epoch 2/5\n",
            "60000/60000 [==============================] - 16s 259us/step - loss: 0.0812 - acc: 0.9759\n",
            "Epoch 3/5\n",
            "60000/60000 [==============================] - 15s 247us/step - loss: 0.0521 - acc: 0.9834\n",
            "Epoch 4/5\n",
            "60000/60000 [==============================] - 15s 247us/step - loss: 0.0370 - acc: 0.9886\n",
            "Epoch 5/5\n",
            "60000/60000 [==============================] - 15s 251us/step - loss: 0.0262 - acc: 0.9915\n",
            "10000/10000 [==============================] - 1s 60us/step\n",
            "Test accuracy: 0.9825  Test loss: 0.05881797763291979\n"
          ],
          "name": "stdout"
        }
      ]
    },
    {
      "metadata": {
        "id": "-ovxsEOayOVy",
        "colab_type": "text"
      },
      "cell_type": "markdown",
      "source": [
        "# fashion_mnist数据识别\n",
        "**导入python包及api**"
      ]
    },
    {
      "metadata": {
        "id": "-B3im50MlJbO",
        "colab_type": "code",
        "outputId": "cebca01d-af54-4b6c-e1bc-6761800dba64",
        "colab": {
          "base_uri": "https://localhost:8080/",
          "height": 35
        }
      },
      "cell_type": "code",
      "source": [
        "# TensorFlow and tf.keras\n",
        "import tensorflow as tf\n",
        "from tensorflow import keras\n",
        "\n",
        "# Helper libraries\n",
        "import numpy as np\n",
        "import matplotlib.pyplot as plt\n",
        "\n",
        "print(tf.__version__)"
      ],
      "execution_count": 0,
      "outputs": [
        {
          "output_type": "stream",
          "text": [
            "1.12.0\n"
          ],
          "name": "stdout"
        }
      ]
    },
    {
      "metadata": {
        "id": "J9vVdWvuyXVQ",
        "colab_type": "text"
      },
      "cell_type": "markdown",
      "source": [
        "**导入数据**"
      ]
    },
    {
      "metadata": {
        "id": "E5jQshSntpwZ",
        "colab_type": "code",
        "outputId": "47778911-b623-45b8-e8c2-7763550d585f",
        "colab": {
          "base_uri": "https://localhost:8080/",
          "height": 161
        }
      },
      "cell_type": "code",
      "source": [
        "fashion_mnist = keras.datasets.fashion_mnist\n",
        "\n",
        "(train_images, train_labels), (test_images, test_labels) = fashion_mnist.load_data()"
      ],
      "execution_count": 0,
      "outputs": [
        {
          "output_type": "stream",
          "text": [
            "Downloading data from https://storage.googleapis.com/tensorflow/tf-keras-datasets/train-labels-idx1-ubyte.gz\n",
            "32768/29515 [=================================] - 0s 0us/step\n",
            "Downloading data from https://storage.googleapis.com/tensorflow/tf-keras-datasets/train-images-idx3-ubyte.gz\n",
            "26427392/26421880 [==============================] - 0s 0us/step\n",
            "Downloading data from https://storage.googleapis.com/tensorflow/tf-keras-datasets/t10k-labels-idx1-ubyte.gz\n",
            "8192/5148 [===============================================] - 0s 0us/step\n",
            "Downloading data from https://storage.googleapis.com/tensorflow/tf-keras-datasets/t10k-images-idx3-ubyte.gz\n",
            "4423680/4422102 [==============================] - 0s 0us/step\n"
          ],
          "name": "stdout"
        }
      ]
    },
    {
      "metadata": {
        "id": "hG1IKoe7uUfV",
        "colab_type": "code",
        "colab": {}
      },
      "cell_type": "code",
      "source": [
        "class_names = ['T-shirt/top', 'Trouser', 'Pullover', 'Dress', 'Coat',\n",
        "               'Sandal', 'Shirt', 'Sneaker', 'Bag', 'Ankle boot']"
      ],
      "execution_count": 0,
      "outputs": []
    },
    {
      "metadata": {
        "id": "zECo6sFZxKrU",
        "colab_type": "code",
        "outputId": "a7a87183-6f21-47bd-ec71-0649b436d587",
        "colab": {
          "base_uri": "https://localhost:8080/",
          "height": 35
        }
      },
      "cell_type": "code",
      "source": [
        "train_images.shape"
      ],
      "execution_count": 0,
      "outputs": [
        {
          "output_type": "execute_result",
          "data": {
            "text/plain": [
              "(60000, 28, 28)"
            ]
          },
          "metadata": {
            "tags": []
          },
          "execution_count": 8
        }
      ]
    },
    {
      "metadata": {
        "id": "-qLLPHhVxRQi",
        "colab_type": "code",
        "outputId": "b1db25c7-8950-4fc6-fc5e-96e06d51d756",
        "colab": {
          "base_uri": "https://localhost:8080/",
          "height": 35
        }
      },
      "cell_type": "code",
      "source": [
        "len(train_labels)"
      ],
      "execution_count": 0,
      "outputs": [
        {
          "output_type": "execute_result",
          "data": {
            "text/plain": [
              "60000"
            ]
          },
          "metadata": {
            "tags": []
          },
          "execution_count": 9
        }
      ]
    },
    {
      "metadata": {
        "id": "9qquaNNhxbYk",
        "colab_type": "code",
        "outputId": "f44b6beb-f4be-4ea0-d7c7-6bde85a31be4",
        "colab": {
          "base_uri": "https://localhost:8080/",
          "height": 35
        }
      },
      "cell_type": "code",
      "source": [
        "train_labels"
      ],
      "execution_count": 0,
      "outputs": [
        {
          "output_type": "execute_result",
          "data": {
            "text/plain": [
              "array([9, 0, 0, ..., 3, 0, 5], dtype=uint8)"
            ]
          },
          "metadata": {
            "tags": []
          },
          "execution_count": 10
        }
      ]
    },
    {
      "metadata": {
        "id": "OGzPAoDaxgOK",
        "colab_type": "code",
        "outputId": "7d012a76-e774-44af-e75e-b7bde779c495",
        "colab": {
          "base_uri": "https://localhost:8080/",
          "height": 347
        }
      },
      "cell_type": "code",
      "source": [
        "plt.figure()\n",
        "plt.imshow(train_images[0])\n",
        "plt.colorbar()\n",
        "plt.grid(False)"
      ],
      "execution_count": 0,
      "outputs": [
        {
          "output_type": "display_data",
          "data": {
            "image/png": "[encoded data removed]",
            "text/plain": [
              "<matplotlib.figure.Figure at 0x7f6d35f3e2b0>"
            ]
          },
          "metadata": {
            "tags": []
          }
        }
      ]
    },
    {
      "metadata": {
        "id": "1D050PCQyhz3",
        "colab_type": "text"
      },
      "cell_type": "markdown",
      "source": [
        "**数据预处理，归一化操作**"
      ]
    },
    {
      "metadata": {
        "id": "E1gZWdCsxnAB",
        "colab_type": "code",
        "colab": {}
      },
      "cell_type": "code",
      "source": [
        "train_images = train_images / 255.0\n",
        "\n",
        "test_images = test_images / 255.0"
      ],
      "execution_count": 0,
      "outputs": []
    },
    {
      "metadata": {
        "id": "vR1GerCHy6SU",
        "colab_type": "text"
      },
      "cell_type": "markdown",
      "source": [
        "**构建网络模型**\n",
        "\n",
        "该网络中的第一层 tf.keras.layers.Flatten 将图像格式从二维数组（28x28 像素）转换成一维数组（28 * 28 = 784 像素）。可以将该层视为图像中像素未堆叠的行，并排列这些行。该层没有要学习的参数；它只改动数据的格式。\n",
        "\n",
        "在扁平化像素之后，该网络包含两个 tf.keras.layers.Dense 层的序列。这些层是密集连接或全连接神经层。第一个 Dense 层具有 128 个节点（或神经元）。第二个（也是最后一个）层是具有 10 个节点的 softmax 层，该层会返回一个具有 10 个概率得分的数组，这些得分的总和为 1。每个节点包含一个得分，表示当前图像属于 10 个类别中某一个的概率。\n"
      ]
    },
    {
      "metadata": {
        "id": "gx5qNVjayg-g",
        "colab_type": "code",
        "colab": {}
      },
      "cell_type": "code",
      "source": [
        "model = keras.Sequential([\n",
        "    keras.layers.Flatten(input_shape=(28, 28)),\n",
        "    keras.layers.Dense(128, activation=tf.nn.relu),\n",
        "    keras.layers.Dense(10, activation=tf.nn.softmax)\n",
        "])"
      ],
      "execution_count": 0,
      "outputs": []
    },
    {
      "metadata": {
        "id": "YOW_Zr-Hz_LP",
        "colab_type": "text"
      },
      "cell_type": "markdown",
      "source": [
        "模型反向传递"
      ]
    },
    {
      "metadata": {
        "id": "pj6fb736y5dg",
        "colab_type": "code",
        "colab": {}
      },
      "cell_type": "code",
      "source": [
        "model.compile(optimizer=tf.train.AdamOptimizer(),\n",
        "              loss='sparse_categorical_crossentropy',\n",
        "              metrics=['accuracy'])"
      ],
      "execution_count": 0,
      "outputs": []
    },
    {
      "metadata": {
        "id": "oJKhP5Te0R9y",
        "colab_type": "text"
      },
      "cell_type": "markdown",
      "source": [
        "**训练模型**"
      ]
    },
    {
      "metadata": {
        "id": "qqwr9yraz-b_",
        "colab_type": "code",
        "outputId": "c0fed3ca-6c19-4796-bbc3-6792e01ff868",
        "colab": {
          "base_uri": "https://localhost:8080/",
          "height": 215
        }
      },
      "cell_type": "code",
      "source": [
        "model.fit(train_images, train_labels, epochs=5)"
      ],
      "execution_count": 0,
      "outputs": [
        {
          "output_type": "stream",
          "text": [
            "Epoch 1/5\n",
            "60000/60000 [==============================] - 5s 76us/step - loss: 0.5047 - acc: 0.8238\n",
            "Epoch 2/5\n",
            "60000/60000 [==============================] - 4s 72us/step - loss: 0.3749 - acc: 0.8630\n",
            "Epoch 3/5\n",
            "60000/60000 [==============================] - 4s 73us/step - loss: 0.3347 - acc: 0.8773\n",
            "Epoch 4/5\n",
            "60000/60000 [==============================] - 4s 72us/step - loss: 0.3107 - acc: 0.8855\n",
            "Epoch 5/5\n",
            "60000/60000 [==============================] - 4s 71us/step - loss: 0.2941 - acc: 0.8915\n"
          ],
          "name": "stdout"
        },
        {
          "output_type": "execute_result",
          "data": {
            "text/plain": [
              "<tensorflow.python.keras.callbacks.History at 0x7f6d3979eac8>"
            ]
          },
          "metadata": {
            "tags": []
          },
          "execution_count": 18
        }
      ]
    },
    {
      "metadata": {
        "id": "f9E-g-sD0fMf",
        "colab_type": "text"
      },
      "cell_type": "markdown",
      "source": [
        "**测试模型**"
      ]
    },
    {
      "metadata": {
        "id": "HbIfPlht0PL4",
        "colab_type": "code",
        "outputId": "3f3d4480-d214-4f22-96ef-b76f0bbfb6bc",
        "colab": {
          "base_uri": "https://localhost:8080/",
          "height": 53
        }
      },
      "cell_type": "code",
      "source": [
        "test_loss, test_acc = model.evaluate(test_images, test_labels)\n",
        "\n",
        "print('Test accuracy:', test_acc,' Test loss:',test_loss)"
      ],
      "execution_count": 0,
      "outputs": [
        {
          "output_type": "stream",
          "text": [
            "10000/10000 [==============================] - 0s 29us/step\n",
            "Test accuracy: 0.864  Test loss: 0.3883624930739403\n"
          ],
          "name": "stdout"
        }
      ]
    },
    {
      "metadata": {
        "id": "jDAFS7Td0c1c",
        "colab_type": "code",
        "colab": {}
      },
      "cell_type": "code",
      "source": [
        ""
      ],
      "execution_count": 0,
      "outputs": []
    }
  ]
}