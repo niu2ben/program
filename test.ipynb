{
  "nbformat": 4,
  "nbformat_minor": 0,
  "metadata": {
    "colab": {
      "name": "Untitled0.ipynb",
      "version": "0.3.2",
      "provenance": [],
      "include_colab_link": true
    },
    "kernelspec": {
      "name": "python3",
      "display_name": "Python 3"
    }
  },
  "cells": [
    {
      "cell_type": "markdown",
      "metadata": {
        "id": "view-in-github",
        "colab_type": "text"
      },
      "source": [
        "<a href=\"https://colab.research.google.com/github/niu2ben/program/blob/master/test.ipynb\" target=\"_parent\"><img src=\"https://colab.research.google.com/assets/colab-badge.svg\" alt=\"Open In Colab\"/></a>"
      ]
    },
    {
      "metadata": {
        "id": "N9Q9Y3RUlefV",
        "colab_type": "text"
      },
      "cell_type": "markdown",
      "source": [
        "测试"
      ]
    },
    {
      "metadata": {
        "id": "YgGD3gctkWgN",
        "colab_type": "code",
        "colab": {}
      },
      "cell_type": "code",
      "source": [
        "import tensorflow as tf"
      ],
      "execution_count": 0,
      "outputs": []
    },
    {
      "metadata": {
        "id": "_Y3iCz9DkcOd",
        "colab_type": "code",
        "colab": {
          "base_uri": "https://localhost:8080/",
          "height": 35
        },
        "outputId": "40942389-1952-43b0-de22-85631371587a"
      },
      "cell_type": "code",
      "source": [
        "a=tf.constant('hello world')\n",
        "sess=tf.Session()\n",
        "print(sess.run(a))"
      ],
      "execution_count": 2,
      "outputs": [
        {
          "output_type": "stream",
          "text": [
            "b'hello world'\n"
          ],
          "name": "stdout"
        }
      ]
    },
    {
      "metadata": {
        "id": "RJzGB8_2lW6Q",
        "colab_type": "text"
      },
      "cell_type": "markdown",
      "source": [
        "练习项目mnist"
      ]
    },
    {
      "metadata": {
        "id": "Y5CXu_Fck3At",
        "colab_type": "code",
        "colab": {
          "base_uri": "https://localhost:8080/",
          "height": 269
        },
        "outputId": "2705808b-5e2c-42ba-ab3f-15c0b118d99b"
      },
      "cell_type": "code",
      "source": [
        "import tensorflow as tf\n",
        "mnist = tf.keras.datasets.mnist\n",
        "\n",
        "(x_train, y_train),(x_test, y_test) = mnist.load_data()\n",
        "x_train, x_test = x_train / 255.0, x_test / 255.0\n",
        "\n",
        "model = tf.keras.models.Sequential([\n",
        "  tf.keras.layers.Flatten(),\n",
        "  tf.keras.layers.Dense(512, activation=tf.nn.relu),\n",
        "  tf.keras.layers.Dropout(0.2),\n",
        "  tf.keras.layers.Dense(10, activation=tf.nn.softmax)\n",
        "])\n",
        "model.compile(optimizer='adam',\n",
        "              loss='sparse_categorical_crossentropy',\n",
        "              metrics=['accuracy'])\n",
        "\n",
        "model.fit(x_train, y_train, epochs=5)\n",
        "model.evaluate(x_test, y_test)"
      ],
      "execution_count": 3,
      "outputs": [
        {
          "output_type": "stream",
          "text": [
            "Downloading data from https://storage.googleapis.com/tensorflow/tf-keras-datasets/mnist.npz\n",
            "11493376/11490434 [==============================] - 0s 0us/step\n",
            "Epoch 1/5\n",
            "60000/60000 [==============================] - 16s 272us/step - loss: 0.2022 - acc: 0.9409\n",
            "Epoch 2/5\n",
            "60000/60000 [==============================] - 16s 274us/step - loss: 0.0787 - acc: 0.9759\n",
            "Epoch 3/5\n",
            "60000/60000 [==============================] - 16s 265us/step - loss: 0.0518 - acc: 0.9839\n",
            "Epoch 4/5\n",
            "60000/60000 [==============================] - 16s 268us/step - loss: 0.0357 - acc: 0.9888\n",
            "Epoch 5/5\n",
            "60000/60000 [==============================] - 16s 274us/step - loss: 0.0274 - acc: 0.9914\n",
            "10000/10000 [==============================] - 1s 55us/step\n"
          ],
          "name": "stdout"
        },
        {
          "output_type": "execute_result",
          "data": {
            "text/plain": [
              "[0.07240641171342577, 0.9811]"
            ]
          },
          "metadata": {
            "tags": []
          },
          "execution_count": 3
        }
      ]
    },
    {
      "metadata": {
        "id": "-B3im50MlJbO",
        "colab_type": "code",
        "colab": {}
      },
      "cell_type": "code",
      "source": [
        ""
      ],
      "execution_count": 0,
      "outputs": []
    }
  ]
}